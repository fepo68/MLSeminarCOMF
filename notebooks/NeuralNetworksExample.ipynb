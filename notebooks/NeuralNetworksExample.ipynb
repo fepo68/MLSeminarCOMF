{
 "cells": [
  {
   "cell_type": "markdown",
   "metadata": {},
   "source": [
    "# Neural Network Classification Example"
   ]
  },
  {
   "cell_type": "code",
   "execution_count": 1,
   "metadata": {
    "collapsed": true
   },
   "outputs": [],
   "source": [
    "from sklearn.neural_network import MLPClassifier\n",
    "import scipy.io as sio\n",
    "import numpy.matlib as mat\n",
    "import numpy as np\n",
    "from matplotlib import pyplot as plt\n",
    "%matplotlib inline"
   ]
  },
  {
   "cell_type": "code",
   "execution_count": 54,
   "metadata": {},
   "outputs": [
    {
     "name": "stdout",
     "output_type": "stream",
     "text": [
      "[0 0 0 0 0 0 0 0 0 0 0 0 0 0 0 0 0 0 0 0 0 0 0 0 0 0 0 0 0 0 0 0 0 0 0 0 0\n",
      " 0 0 0 0 0 0 0 0 0 0 0 0 0 1 1 1 1 1 1 1 1 1 1 1 1 1 1 1 1 1 1 1 1 1 1 1 1\n",
      " 1 1 1 1 1 1 1 1 1 1 1 1 1 1 1 1 1 1 1 1 1 1 1 1 1 1 2 2 2 2 2 2 2 2 2 2 2\n",
      " 2 2 2 2 2 2 2 2 2 2 2 2 2 2 2 2 2 2 2 2 2 2 2 2 2 2 2 2 2 2 2 2 2 2 2 2 2\n",
      " 2 2] (150, 2)\n"
     ]
    },
    {
     "data": {
      "text/plain": [
       "<matplotlib.legend.Legend at 0x1a40982e320>"
      ]
     },
     "execution_count": 54,
     "metadata": {},
     "output_type": "execute_result"
    },
    {
     "data": {
      "image/png": "[encoded data removed]",
      "text/plain": [
       "<matplotlib.figure.Figure at 0x1a409739160>"
      ]
     },
     "metadata": {},
     "output_type": "display_data"
    }
   ],
   "source": [
    "data = sio.loadmat('fisheriris.mat')\n",
    "X = data['meas']\n",
    "X = X[:,:2]\n",
    "T = np.concatenate((np.array(mat.repmat([0],50,1)),np.array(mat.repmat([1],50,1)),np.array(mat.repmat([2],50,1))),axis = 0)\n",
    "targets = np.ravel(T)\n",
    "print(targets,X.shape)\n",
    "plt.plot(X[:50,0],X[:50,1],'or')\n",
    "plt.plot(X[50:101,0],X[50:101,1],'dg')\n",
    "plt.plot(X[101:,0],X[101:,1],'sb')\n",
    "plt.legend(('C1','C2','C3'))"
   ]
  },
  {
   "cell_type": "code",
   "execution_count": 55,
   "metadata": {
    "collapsed": true
   },
   "outputs": [],
   "source": [
    "MLPClassifier?"
   ]
  },
  {
   "cell_type": "code",
   "execution_count": 56,
   "metadata": {},
   "outputs": [
    {
     "name": "stdout",
     "output_type": "stream",
     "text": [
      "(2, 15)\n",
      "(15, 3)\n"
     ]
    }
   ],
   "source": [
    "clf = MLPClassifier(solver='lbfgs', alpha=1e-5,hidden_layer_sizes=(15), random_state=1)\n",
    "clf.fit(X, targets)  \n",
    "Ws = clf.coefs_\n",
    "print(np.shape(Ws[0]))\n",
    "print(np.shape(Ws[1]))\n",
    "\n"
   ]
  },
  {
   "cell_type": "code",
   "execution_count": 57,
   "metadata": {},
   "outputs": [
    {
     "data": {
      "text/plain": [
       "array([[50,  0,  0],\n",
       "       [ 0, 38, 12],\n",
       "       [ 0, 13, 37]])"
      ]
     },
     "execution_count": 57,
     "metadata": {},
     "output_type": "execute_result"
    }
   ],
   "source": [
    "y_pred = clf.predict(X)\n",
    "from sklearn.metrics import confusion_matrix\n",
    "cMat = confusion_matrix(targets, y_pred)\n",
    "cMat.view()"
   ]
  },
  {
   "cell_type": "code",
   "execution_count": 70,
   "metadata": {},
   "outputs": [
    {
     "name": "stdout",
     "output_type": "stream",
     "text": [
      "[[50  0  0]\n",
      " [ 0 38 12]\n",
      " [ 0 14 36]]\n"
     ]
    }
   ],
   "source": [
    "# Ejemplo con una svm\n",
    "from sklearn import svm\n",
    "\n",
    "model = svm.SVC()\n",
    "model.fit(X,targets)\n",
    "y_pred = model.predict(X)\n",
    "cMat = confusion_matrix(targets, y_pred)\n",
    "print(cMat)"
   ]
  },
  {
   "cell_type": "code",
   "execution_count": null,
   "metadata": {},
   "outputs": [],
   "source": []
  },
  {
   "cell_type": "markdown",
   "metadata": {},
   "source": [
    "# Neural Network Regresion Example"
   ]
  },
  {
   "cell_type": "code",
   "execution_count": 30,
   "metadata": {},
   "outputs": [
    {
     "name": "stdout",
     "output_type": "stream",
     "text": [
      "(1, 94) (1, 94)\n"
     ]
    },
    {
     "name": "stderr",
     "output_type": "stream",
     "text": [
      "C:\\Anaconda\\envs\\py36\\lib\\site-packages\\sklearn\\neural_network\\multilayer_perceptron.py:563: ConvergenceWarning: Stochastic Optimizer: Maximum iterations reached and the optimization hasn't converged yet.\n",
      "  % (), ConvergenceWarning)\n"
     ]
    },
    {
     "data": {
      "text/plain": [
       "MLPRegressor(activation='relu', alpha=0.001, batch_size='auto', beta_1=0.9,\n",
       "       beta_2=0.999, early_stopping=False, epsilon=1e-08,\n",
       "       hidden_layer_sizes=(10, 2, 10), learning_rate='constant',\n",
       "       learning_rate_init=0.001, max_iter=200, momentum=0.9,\n",
       "       nesterovs_momentum=True, power_t=0.5, random_state=1, shuffle=True,\n",
       "       solver='adam', tol=0.0001, validation_fraction=0.1, verbose=False,\n",
       "       warm_start=False)"
      ]
     },
     "execution_count": 30,
     "metadata": {},
     "output_type": "execute_result"
    }
   ],
   "source": [
    "import numpy as np\n",
    "from sklearn.neural_network import MLPRegressor\n",
    "data = sio.loadmat('simpleFitdataset.mat')\n",
    "x = data['x']\n",
    "t = data['t']\n",
    "\n",
    "print(x.shape,t.shape)\n",
    "a,b = t.shape\n",
    "tr = t+0.1*np.random.rand(1,b)\n",
    "clf = MLPRegressor(solver='adam', alpha=1e-3,hidden_layer_sizes=(10,2,10), random_state=1)\n",
    "clf.fit(x,tr)  \n"
   ]
  },
  {
   "cell_type": "code",
   "execution_count": 31,
   "metadata": {},
   "outputs": [
    {
     "name": "stdout",
     "output_type": "stream",
     "text": [
      "[[  5.05588208   5.37317331   5.72085779   6.00430746   6.33786947\n",
      "    6.66937131   6.96411334   7.29741894   7.57733099   7.98091837\n",
      "    8.27752589   8.5967851    8.91548633   9.21594817   9.4742499\n",
      "    9.71381237   9.92717872  10.03152533  10.0247367    9.90367794\n",
      "    9.76364827   9.52478509   9.25306729   9.05253572   8.73066837\n",
      "    8.52286717   8.24485579   8.01799173   7.83706059   7.68626969\n",
      "    7.58127847   7.46866246   7.35434918   7.28403733   7.16246109\n",
      "    7.15450943   7.08677281   7.14727891   7.20798145   7.22769096\n",
      "    7.37492888   7.51793742   7.61024643   7.74392774   7.91153014\n",
      "    8.04432575   8.13035075   8.21702361   8.23065561   8.03745438\n",
      "    7.76892848   7.48162646   7.16251616   6.89190098   6.52540722\n",
      "    6.26346689   5.99700531   5.60048518   5.354378     4.95923461\n",
      "    4.65908154   4.33254989   4.04282593   3.77094511   3.47649162\n",
      "    3.13358335   2.80621958   2.42775252   2.17903001   1.83763815\n",
      "    1.54369031   1.19739419   0.90012656   0.57129363   0.32948765\n",
      "    0.04072419   0.01027597   0.22404044   0.52250529   0.75181715\n",
      "    1.06855404   1.35994278   1.63363633   1.98301486   2.29367868\n",
      "    2.59785543   2.92854749   3.17711939   3.48391538   3.85395234\n",
      "    4.14443236   4.45886496   4.750709     4.9471089 ]]\n"
     ]
    }
   ],
   "source": [
    "y_pred = clf.predict(x)\n",
    "from sklearn.metrics import r2_score\n",
    "print(tr)"
   ]
  },
  {
   "cell_type": "code",
   "execution_count": 32,
   "metadata": {},
   "outputs": [
    {
     "name": "stdout",
     "output_type": "stream",
     "text": [
      "R2= 0.995497110669\n"
     ]
    }
   ],
   "source": [
    "print('R2=',r2_score(tr[0],y_pred[0]))"
   ]
  },
  {
   "cell_type": "code",
   "execution_count": 33,
   "metadata": {},
   "outputs": [
    {
     "data": {
      "image/png": "[encoded data removed]",
      "text/plain": [
       "<matplotlib.figure.Figure at 0x1a409415f98>"
      ]
     },
     "metadata": {},
     "output_type": "display_data"
    }
   ],
   "source": [
    "\n",
    "plt.plot(x[0],y_pred[0],'--')\n",
    "plt.plot(x[0],tr[0],'-.r')\n",
    "plt.legend({'Targets','Predicted Targets'})\n",
    "plt.show()\n"
   ]
  },
  {
   "cell_type": "code",
   "execution_count": null,
   "metadata": {
    "collapsed": true
   },
   "outputs": [],
   "source": []
  }
 ],
 "metadata": {
  "kernelspec": {
   "display_name": "Python 3",
   "language": "python",
   "name": "python3"
  },
  "language_info": {
   "codemirror_mode": {
    "name": "ipython",
    "version": 3
   },
   "file_extension": ".py",
   "mimetype": "text/x-python",
   "name": "python",
   "nbconvert_exporter": "python",
   "pygments_lexer": "ipython3",
   "version": "3.6.1"
  }
 },
 "nbformat": 4,
 "nbformat_minor": 1
}
